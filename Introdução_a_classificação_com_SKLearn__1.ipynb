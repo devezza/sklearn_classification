{
  "nbformat": 4,
  "nbformat_minor": 0,
  "metadata": {
    "colab": {
      "name": "Introdução a classificação com SKLearn_ 1.ipynb",
      "provenance": []
    },
    "kernelspec": {
      "name": "python3",
      "display_name": "Python 3"
    },
    "language_info": {
      "name": "python"
    }
  },
  "cells": [
    {
      "cell_type": "markdown",
      "source": [
        "# Classificação: Porco ou Cachorro?\n"
      ],
      "metadata": {
        "id": "u9S8ypViGbwM"
      }
    },
    {
      "cell_type": "markdown",
      "source": [
        "Na nossa vida aprendemos muitas vezes através da supervisão de outra pessoa, é dessa forma que esse algortmo irá aprender e identificar os dados."
      ],
      "metadata": {
        "id": "1qeXmP9WG1hS"
      }
    },
    {
      "cell_type": "markdown",
      "source": [
        "## Características / Features\n",
        "Quanto mais a gente mostrar as características de um determinado animal maiores são as chances de acerto.\n",
        "\n",
        "\\\n",
        "Aqui iremos identificar as seguintes características:\n",
        "- pelo: longo ou curto\n",
        "- perna: curta ou longa\n",
        "- faz auau: sim ou nao\n",
        "\n",
        "Quão bom é o nosso estimador?\n",
        "Vamos identificar isso através da margem de erro: **ACURÁCIA**"
      ],
      "metadata": {
        "id": "WnZzOiKdHQug"
      }
    },
    {
      "cell_type": "markdown",
      "source": [
        "### Importações"
      ],
      "metadata": {
        "id": "7tqj0qxHT0cH"
      }
    },
    {
      "cell_type": "code",
      "source": [
        "from sklearn.svm import LinearSVC\n",
        "from sklearn.metrics import accuracy_score"
      ],
      "metadata": {
        "id": "SFJ4ovbIT5pE"
      },
      "execution_count": 3,
      "outputs": []
    },
    {
      "cell_type": "markdown",
      "source": [
        "Criando meu dataset de treino"
      ],
      "metadata": {
        "id": "7mFcNQgjT--m"
      }
    },
    {
      "cell_type": "code",
      "execution_count": 5,
      "metadata": {
        "id": "EloWzpkgFObn"
      },
      "outputs": [],
      "source": [
        "#features (1- sim, 0 - não)\n",
        "\n",
        "porco1 = [0,1,0]\n",
        "porco2 = [0,1,1]\n",
        "porco3 = [1,1,0]\n",
        "\n",
        "cachorro1 = [0, 1, 1]\n",
        "cachorro2 = [1,0,1]\n",
        "cachorro3 = [1,1,1]\n",
        "\n",
        "# 1 - porco / 0 - cachorro\n",
        "trein_x = [porco1, porco2,porco3, cachorro1, cachorro2, cachorro3]\n",
        "trein_y = [1,1,1,0,0,0]"
      ]
    },
    {
      "cell_type": "markdown",
      "source": [
        "##Estimador"
      ],
      "metadata": {
        "id": "dtkJuOuAJedO"
      }
    },
    {
      "cell_type": "code",
      "source": [
        "model = LinearSVC()\n",
        "model.fit(trein_x,trein_y)"
      ],
      "metadata": {
        "colab": {
          "base_uri": "https://localhost:8080/"
        },
        "id": "UZVXN8hZGCcM",
        "outputId": "bf4a210a-65f0-4aab-aec2-17e7b89447e6"
      },
      "execution_count": 6,
      "outputs": [
        {
          "output_type": "execute_result",
          "data": {
            "text/plain": [
              "LinearSVC()"
            ]
          },
          "metadata": {},
          "execution_count": 6
        }
      ]
    },
    {
      "cell_type": "code",
      "source": [
        "animal_misterioso = [1,1,1]\n",
        "\n",
        "model.predict([animal_misterioso])"
      ],
      "metadata": {
        "colab": {
          "base_uri": "https://localhost:8080/"
        },
        "id": "qN-UTdAKJ_Bc",
        "outputId": "362db4e6-b1d8-484b-bd5d-cecd8280cf71"
      },
      "execution_count": null,
      "outputs": [
        {
          "output_type": "execute_result",
          "data": {
            "text/plain": [
              "array([0])"
            ]
          },
          "metadata": {},
          "execution_count": 3
        }
      ]
    },
    {
      "cell_type": "markdown",
      "source": [
        "### Testando"
      ],
      "metadata": {
        "id": "RAxYeebLUSqY"
      }
    },
    {
      "cell_type": "code",
      "source": [
        "misterio1 = [1,1,1]\n",
        "misterio2 = [1,1,0]\n",
        "misterio3 = [0,1,1]\n",
        "\n",
        "test_x = [misterio1, misterio2, misterio3]\n",
        "test_y = [0,1,1]\n"
      ],
      "metadata": {
        "id": "qnVZbaSWKMsY"
      },
      "execution_count": null,
      "outputs": []
    },
    {
      "cell_type": "code",
      "source": [
        "previsoes = model.predict(test_x)"
      ],
      "metadata": {
        "id": "CzoDW50NKoZ2"
      },
      "execution_count": null,
      "outputs": []
    },
    {
      "cell_type": "markdown",
      "source": [
        "Identificando a taxa de erro através da accuracy_score"
      ],
      "metadata": {
        "id": "Cpt_o2U2UZLA"
      }
    },
    {
      "cell_type": "code",
      "source": [
        "taxa_de_acerto = accuracy_score(test_y, previsoes)\n",
        "print(\"A taxa de acerto: %.2f\" % (taxa_de_acerto * 100))"
      ],
      "metadata": {
        "colab": {
          "base_uri": "https://localhost:8080/"
        },
        "id": "GcTGNogbLf_l",
        "outputId": "9de0ccb8-bc87-45e8-b48e-018236e4ad4f"
      },
      "execution_count": null,
      "outputs": [
        {
          "output_type": "stream",
          "name": "stdout",
          "text": [
            "A taxa de acerto: 66.67\n"
          ]
        }
      ]
    }
  ]
}